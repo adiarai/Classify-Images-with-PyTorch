{
 "cells": [
  {
   "cell_type": "markdown",
   "id": "ca1bba77",
   "metadata": {},
   "source": [
    "# Step 1: Install Torch\n",
    "Execute the following cell which will install torch and torchvision"
   ]
  },
  {
   "cell_type": "code",
   "execution_count": 34,
   "id": "8526d924",
   "metadata": {},
   "outputs": [
    {
     "name": "stdout",
     "output_type": "stream",
     "text": [
      "Requirement already satisfied: torchvision in c:\\users\\adi\\anaconda3\\lib\\site-packages (0.14.1)\n",
      "Requirement already satisfied: typing-extensions in c:\\users\\adi\\anaconda3\\lib\\site-packages (from torchvision) (4.3.0)\n",
      "Requirement already satisfied: torch==1.13.1 in c:\\users\\adi\\anaconda3\\lib\\site-packages (from torchvision) (1.13.1)\n",
      "Requirement already satisfied: requests in c:\\users\\adi\\anaconda3\\lib\\site-packages (from torchvision) (2.28.1)\n",
      "Requirement already satisfied: numpy in c:\\users\\adi\\anaconda3\\lib\\site-packages (from torchvision) (1.24.2)\n",
      "Requirement already satisfied: pillow!=8.3.*,>=5.3.0 in c:\\users\\adi\\anaconda3\\lib\\site-packages (from torchvision) (9.2.0)\n",
      "Requirement already satisfied: charset-normalizer<3,>=2 in c:\\users\\adi\\anaconda3\\lib\\site-packages (from requests->torchvision) (2.0.4)\n",
      "Requirement already satisfied: idna<4,>=2.5 in c:\\users\\adi\\anaconda3\\lib\\site-packages (from requests->torchvision) (3.3)\n",
      "Requirement already satisfied: urllib3<1.27,>=1.21.1 in c:\\users\\adi\\anaconda3\\lib\\site-packages (from requests->torchvision) (1.26.11)\n",
      "Requirement already satisfied: certifi>=2017.4.17 in c:\\users\\adi\\anaconda3\\lib\\site-packages (from requests->torchvision) (2022.9.14)\n"
     ]
    }
   ],
   "source": [
    "!pip install torchvision"
   ]
  },
  {
   "cell_type": "markdown",
   "id": "dd91ee74",
   "metadata": {},
   "source": [
    "# Step 2: Import libraries"
   ]
  },
  {
   "cell_type": "code",
   "execution_count": null,
   "id": "ea12b8d1",
   "metadata": {},
   "outputs": [],
   "source": [
    "import torch \n",
    "import torch.nn as nn \n",
    "from torch import optim \n",
    "from torchvision import datasets \n",
    "from torchvision import transforms \n",
    "import matplotlib.pyplot as plt \n",
    "%matplotlib inline"
   ]
  },
  {
   "cell_type": "markdown",
   "id": "1a8c9708",
   "metadata": {},
   "source": [
    "# Step 3: Download the CIFAR10 dataset\n",
    "Excute the cell below"
   ]
  },
  {
   "cell_type": "code",
   "execution_count": 35,
   "id": "8b8f0160",
   "metadata": {},
   "outputs": [
    {
     "name": "stdout",
     "output_type": "stream",
     "text": [
      "Files already downloaded and verified\n",
      "Files already downloaded and verified\n"
     ]
    }
   ],
   "source": [
    "data_path='Downloads/' \n",
    "cifar10=datasets.CIFAR10(data_path,train=True,download=True) \n",
    "cifar10_val=datasets.CIFAR10(data_path,train=False,download=True)"
   ]
  },
  {
   "cell_type": "markdown",
   "id": "4ac675c9",
   "metadata": {},
   "source": [
    "# Step 4: Explore the dataset\n",
    "See the type of cifar10\n",
    "Get the length of cifar10\n",
    "Assign image and label of cifar10 at index 1000\n",
    "Get the class name of label\n",
    "HINT: Use cifar10.classes[label] to get the name"
   ]
  },
  {
   "cell_type": "code",
   "execution_count": 36,
   "id": "0d5f7621",
   "metadata": {},
   "outputs": [
    {
     "data": {
      "text/plain": [
       "torchvision.datasets.cifar.CIFAR10"
      ]
     },
     "execution_count": 36,
     "metadata": {},
     "output_type": "execute_result"
    }
   ],
   "source": [
    "type(cifar10)"
   ]
  },
  {
   "cell_type": "code",
   "execution_count": 37,
   "id": "49d129b5",
   "metadata": {},
   "outputs": [
    {
     "data": {
      "text/plain": [
       "(50000, 10000)"
      ]
     },
     "execution_count": 37,
     "metadata": {},
     "output_type": "execute_result"
    }
   ],
   "source": [
    "len(cifar10),len(cifar10_val)"
   ]
  },
  {
   "cell_type": "code",
   "execution_count": 38,
   "id": "6ea0e41b",
   "metadata": {},
   "outputs": [],
   "source": [
    "img,label=cifar10[1000]"
   ]
  },
  {
   "cell_type": "code",
   "execution_count": 39,
   "id": "59b40346",
   "metadata": {},
   "outputs": [
    {
     "data": {
      "text/plain": [
       "'truck'"
      ]
     },
     "execution_count": 39,
     "metadata": {},
     "output_type": "execute_result"
    }
   ],
   "source": [
    "cifar10.classes[label]"
   ]
  },
  {
   "cell_type": "markdown",
   "id": "37b0c364",
   "metadata": {},
   "source": [
    "# Step 5: Visualize the image\n",
    "Use matplotlib to visuazlize image\n",
    "HINT: just use plt.imshow(...)"
   ]
  },
  {
   "cell_type": "code",
   "execution_count": 40,
   "id": "70a86125",
   "metadata": {},
   "outputs": [
    {
     "data": {
      "text/plain": [
       "<matplotlib.image.AxesImage at 0x1f7d671c970>"
      ]
     },
     "execution_count": 40,
     "metadata": {},
     "output_type": "execute_result"
    },
    {
     "data": {
      "image/png": "[encoded data removed]",
      "text/plain": [
       "<Figure size 640x480 with 1 Axes>"
      ]
     },
     "metadata": {},
     "output_type": "display_data"
    }
   ],
   "source": [
    "plt.imshow(img)"
   ]
  },
  {
   "cell_type": "code",
   "execution_count": null,
   "id": "b5d82ccd",
   "metadata": {},
   "outputs": [],
   "source": []
  },
  {
   "cell_type": "markdown",
   "id": "4ee231b4",
   "metadata": {},
   "source": [
    "# Step 6: Transform images\n",
    "We need to convert the PIL image to a PyTorch tensor\n",
    "We can easily transform it by adding transform=transforms.ToTensor() when reading the dataset.\n",
    "This is given below (just execute)"
   ]
  },
  {
   "cell_type": "code",
   "execution_count": 41,
   "id": "2e394318",
   "metadata": {},
   "outputs": [],
   "source": [
    "tensor_cifar10=datasets.CIFAR10(data_path,train=True,download=False,transform=transforms.ToTensor())"
   ]
  },
  {
   "cell_type": "code",
   "execution_count": null,
   "id": "39fa44fa",
   "metadata": {},
   "outputs": [],
   "source": []
  },
  {
   "cell_type": "markdown",
   "id": "08ef459c",
   "metadata": {},
   "source": [
    "# Step 7: Normalize images\n",
    "Now you have all images (transformed) in tensor_cifar10.\n",
    "To concatenate a stack of images use torch.stack(..., dim=3) on the images\n",
    "HINT: Use list comprehension to get a list of images from tensor_cifar10 (to exclude labels)\n",
    "Calculate the mean(dim=1) by applying it on the stack\n",
    "Calculate the std(dim=1) by applying it on the stack\n",
    "We will use the results in next step"
   ]
  },
  {
   "cell_type": "code",
   "execution_count": 42,
   "id": "d1047e78",
   "metadata": {},
   "outputs": [],
   "source": [
    "imgs=torch.stack([img_t for img_t,_ in tensor_cifar10],dim=3) "
   ]
  },
  {
   "cell_type": "code",
   "execution_count": null,
   "id": "f4d31a8c",
   "metadata": {},
   "outputs": [],
   "source": [
    "imgs.view(3,-1).mean(dim=1) \n"
   ]
  },
  {
   "cell_type": "code",
   "execution_count": null,
   "id": "c94a6075",
   "metadata": {},
   "outputs": [],
   "source": [
    "imgs.view(3,-1).std(dim=1)"
   ]
  },
  {
   "cell_type": "markdown",
   "id": "3cb29613",
   "metadata": {},
   "source": [
    "# Step 8: Normalize the data\n",
    "We can add a normalize transform with adding a transforms.Compose([...]), where the list will contain the transforms.\n",
    "The transform we want are transforms.ToTensor() and transforms.Normalize(...)\n",
    "HINT: See lesson how it was done\n",
    "The transforms.Normalize(...) takes two tuples of the results from last step.\n",
    "Note: that in the lesson it was single numbers, here we hare tuples.\n",
    "Read the datasets to cifar10 with the new transform\n",
    "Read the validation dataset to cifar10_val with the new transform"
   ]
  },
  {
   "cell_type": "code",
   "execution_count": 43,
   "id": "ef1197b1",
   "metadata": {},
   "outputs": [],
   "source": [
    "cifar10=datasets.CIFAR10(data_path,train=True,download=False,\n",
    "                                transform=transforms.Compose([\n",
    "                                transforms.ToTensor(),\n",
    "                                transforms.Normalize((0.4914, 0.4822, 0.4465),\n",
    "                                                    (0.2470, 0.2435, 0.2616))]))"
   ]
  },
  {
   "cell_type": "code",
   "execution_count": 44,
   "id": "cc1dc346",
   "metadata": {},
   "outputs": [],
   "source": [
    "cifar10_val=datasets.CIFAR10(data_path,train=False,download=False,\n",
    "                                transform=transforms.Compose([\n",
    "                                transforms.ToTensor(),\n",
    "                                transforms.Normalize((0.4914, 0.4822, 0.4465),\n",
    "                                                    (0.2470, 0.2435, 0.2616))]))"
   ]
  },
  {
   "cell_type": "markdown",
   "id": "d18ea83d",
   "metadata": {},
   "source": [
    "# Step 9: Limit the dataset\n",
    "There are 10 classes in this dataset - to simplify, we will reduce it to two\n",
    "We will keep label 0 and 2 ('airplane' and 'bird')\n",
    "Use list comprehension to filter the datasets.\n",
    "To simplify use a label_map = {0: 0, 2: 1}, which is used to map label 0 to 0 and label 2 to 1.\n",
    "Then use list comprehension [(img, label_map[label]) for img, label in cifar10 if label in [0, 2]]\n",
    "And similar for cifar10_val"
   ]
  },
  {
   "cell_type": "code",
   "execution_count": 45,
   "id": "7c26b64e",
   "metadata": {},
   "outputs": [],
   "source": [
    "label_map = {0: 0, 2: 1} \n",
    "cifar2=[(img, label_map[label]) for img, label in cifar10 if label in [0, 2]] \n",
    "cifar2_val=[(img, label_map[label]) for img, label in cifar10 if label in [0, 2]]"
   ]
  },
  {
   "cell_type": "code",
   "execution_count": null,
   "id": "27d75178",
   "metadata": {},
   "outputs": [],
   "source": []
  },
  {
   "cell_type": "markdown",
   "id": "9ad018e3",
   "metadata": {},
   "source": [
    "# Step 10: Create the model\n",
    "We create a simple model here\n",
    "3072 input nodes -> Linear with 512 nodes (Tanh acitivation) -> Linear with 2 nodes (LogSoftmax activation)\n",
    "To do that use nn.Sequential(...) with the following arguments.\n",
    "nn.Linear(3072, 512)\n",
    "Bonus question: Why 3072 input nodes?\n",
    "nn.Tanh()\n",
    "nn.Linear(512, 2)\n",
    "nn.LogSoftmax(dim=1)"
   ]
  },
  {
   "cell_type": "code",
   "execution_count": null,
   "id": "b09d765b",
   "metadata": {},
   "outputs": [],
   "source": [
    "model=nn.Sequential(nn.Linear(3072,512),\n",
    "                   nn.Tanh(),\n",
    "                   nn.LogSoftmax(dim=1))  \n"
   ]
  },
  {
   "cell_type": "code",
   "execution_count": null,
   "id": "69449260",
   "metadata": {},
   "outputs": [],
   "source": []
  },
  {
   "cell_type": "code",
   "execution_count": null,
   "id": "546061b1",
   "metadata": {},
   "outputs": [],
   "source": []
  },
  {
   "cell_type": "markdown",
   "id": "0e5d54b0",
   "metadata": {},
   "source": [
    "# Step 11: Train the model\n",
    "Prepare training data\n",
    "train_loader = torch.utils.data.DataLoader(cifar2, batch_size=64,\n",
    "                                           shuffle=True)\n",
    "Set the learning_rate = 0.01 (to make it easy to adjust)\n",
    "Prepare optimizer and loss function.\n",
    "optimizer = optim.SGD(model.parameters(), lr=learning_rate)\n",
    "loss_fn = nn.NLLLoss()\n",
    "Run the training\n",
    "n_epochs = 10\n",
    "for epoch in range(n_epochs):\n",
    "    for imgs, labels in train_loader:\n",
    "        optimizer.zero_grad()\n",
    "\n",
    "        batch_size = imgs.shape[0]\n",
    "        outputs = model(imgs.view(batch_size, -1))\n",
    "        loss = loss_fn(outputs, labels)\n",
    "\n",
    "        loss.backward()\n",
    "        optimizer.step()\n",
    "    print(\"Epoch: %d, Loss: %f\" % (epoch, float(loss)))"
   ]
  },
  {
   "cell_type": "code",
   "execution_count": 47,
   "id": "72f5da51",
   "metadata": {},
   "outputs": [
    {
     "name": "stdout",
     "output_type": "stream",
     "text": [
      "Epoch: 9, Loss: 5.585826\n"
     ]
    }
   ],
   "source": [
    "train_loader = torch.utils.data.DataLoader(cifar2, batch_size=64, shuffle=True)\n",
    "learning_rate = 0.01\n",
    "optimizer = optim.SGD(model.parameters(), lr=learning_rate) \n",
    "loss_fn = nn.NLLLoss() \n",
    "n_epochs = 10 \n",
    "for epoch in range(n_epochs):\n",
    "    for imgs, labels in train_loader:\n",
    "        optimizer.zero_grad()\n",
    "\n",
    "    batch_size = imgs.shape[0]\n",
    "    outputs = model(imgs.view(batch_size, -1))\n",
    "    loss = loss_fn(outputs, labels)\n",
    "\n",
    "    loss.backward()\n",
    "    optimizer.step()\n",
    "print(\"Epoch: %d, Loss: %f\" % (epoch, float(loss)))"
   ]
  },
  {
   "cell_type": "code",
   "execution_count": null,
   "id": "a1220e42",
   "metadata": {},
   "outputs": [],
   "source": []
  },
  {
   "cell_type": "code",
   "execution_count": null,
   "id": "07677e33",
   "metadata": {},
   "outputs": [],
   "source": []
  },
  {
   "cell_type": "markdown",
   "id": "a46bd5aa",
   "metadata": {},
   "source": [
    "# Step 12: Test the model\n",
    "Run the following code (where we assume the test data is called cifar10_val and the model model.\n",
    "val_loader = torch.utils.data.DataLoader(cifar2_val, batch_size=64,\n",
    "                                         shuffle=False)\n",
    "correct = 0\n",
    "total = 0\n",
    "with torch.no_grad():\n",
    "    for imgs, labels in val_loader:\n",
    "        batch_size = imgs.shape[0]\n",
    "        outputs = model(imgs.view(batch_size, -1))\n",
    "        _, predicted = torch.max(outputs, dim=1)\n",
    "        total += labels.shape[0]\n",
    "        correct += int((predicted == labels).sum())\n",
    "print(\"Accuracy: %f\", correct / total)"
   ]
  },
  {
   "cell_type": "code",
   "execution_count": 49,
   "id": "8aed977f",
   "metadata": {},
   "outputs": [
    {
     "name": "stdout",
     "output_type": "stream",
     "text": [
      "Accuracy: %f 0.515625\n",
      "Accuracy: %f 0.6015625\n",
      "Accuracy: %f 0.5885416666666666\n",
      "Accuracy: %f 0.58984375\n",
      "Accuracy: %f 0.578125\n",
      "Accuracy: %f 0.5859375\n",
      "Accuracy: %f 0.5892857142857143\n",
      "Accuracy: %f 0.58203125\n",
      "Accuracy: %f 0.5677083333333334\n",
      "Accuracy: %f 0.5671875\n",
      "Accuracy: %f 0.5696022727272727\n",
      "Accuracy: %f 0.5690104166666666\n",
      "Accuracy: %f 0.5673076923076923\n",
      "Accuracy: %f 0.5658482142857143\n",
      "Accuracy: %f 0.56875\n",
      "Accuracy: %f 0.572265625\n",
      "Accuracy: %f 0.5762867647058824\n",
      "Accuracy: %f 0.5772569444444444\n",
      "Accuracy: %f 0.5773026315789473\n",
      "Accuracy: %f 0.58046875\n",
      "Accuracy: %f 0.5788690476190477\n",
      "Accuracy: %f 0.5774147727272727\n",
      "Accuracy: %f 0.5788043478260869\n",
      "Accuracy: %f 0.5852864583333334\n",
      "Accuracy: %f 0.58375\n",
      "Accuracy: %f 0.5817307692307693\n",
      "Accuracy: %f 0.5798611111111112\n",
      "Accuracy: %f 0.5786830357142857\n",
      "Accuracy: %f 0.578125\n",
      "Accuracy: %f 0.5760416666666667\n",
      "Accuracy: %f 0.5766129032258065\n",
      "Accuracy: %f 0.57763671875\n",
      "Accuracy: %f 0.5767045454545454\n",
      "Accuracy: %f 0.5753676470588235\n",
      "Accuracy: %f 0.5794642857142858\n",
      "Accuracy: %f 0.5794270833333334\n",
      "Accuracy: %f 0.5772804054054054\n",
      "Accuracy: %f 0.5752467105263158\n",
      "Accuracy: %f 0.5733173076923077\n",
      "Accuracy: %f 0.5703125\n",
      "Accuracy: %f 0.5682164634146342\n",
      "Accuracy: %f 0.5654761904761905\n",
      "Accuracy: %f 0.5650436046511628\n",
      "Accuracy: %f 0.5639204545454546\n",
      "Accuracy: %f 0.5652777777777778\n",
      "Accuracy: %f 0.563858695652174\n",
      "Accuracy: %f 0.5615026595744681\n",
      "Accuracy: %f 0.560546875\n",
      "Accuracy: %f 0.5628188775510204\n",
      "Accuracy: %f 0.5653125\n",
      "Accuracy: %f 0.5655637254901961\n",
      "Accuracy: %f 0.5652043269230769\n",
      "Accuracy: %f 0.5645636792452831\n",
      "Accuracy: %f 0.5639467592592593\n",
      "Accuracy: %f 0.5619318181818181\n",
      "Accuracy: %f 0.5613839285714286\n",
      "Accuracy: %f 0.5605811403508771\n",
      "Accuracy: %f 0.5619612068965517\n",
      "Accuracy: %f 0.560646186440678\n",
      "Accuracy: %f 0.5609375\n",
      "Accuracy: %f 0.5601946721311475\n",
      "Accuracy: %f 0.5602318548387096\n",
      "Accuracy: %f 0.5602678571428571\n",
      "Accuracy: %f 0.560791015625\n",
      "Accuracy: %f 0.5608173076923076\n",
      "Accuracy: %f 0.5617897727272727\n",
      "Accuracy: %f 0.5615671641791045\n",
      "Accuracy: %f 0.5615808823529411\n",
      "Accuracy: %f 0.5602355072463768\n",
      "Accuracy: %f 0.5607142857142857\n",
      "Accuracy: %f 0.5602992957746479\n",
      "Accuracy: %f 0.5603298611111112\n",
      "Accuracy: %f 0.561429794520548\n",
      "Accuracy: %f 0.5616554054054054\n",
      "Accuracy: %f 0.560625\n",
      "Accuracy: %f 0.5610608552631579\n",
      "Accuracy: %f 0.5625\n",
      "Accuracy: %f 0.5629006410256411\n",
      "Accuracy: %f 0.5623022151898734\n",
      "Accuracy: %f 0.5615234375\n",
      "Accuracy: %f 0.5619212962962963\n",
      "Accuracy: %f 0.5619283536585366\n",
      "Accuracy: %f 0.5625\n",
      "Accuracy: %f 0.5628720238095238\n",
      "Accuracy: %f 0.5628676470588235\n",
      "Accuracy: %f 0.5623183139534884\n",
      "Accuracy: %f 0.5621408045977011\n",
      "Accuracy: %f 0.5623224431818182\n",
      "Accuracy: %f 0.5619733146067416\n",
      "Accuracy: %f 0.5618055555555556\n",
      "Accuracy: %f 0.5611263736263736\n",
      "Accuracy: %f 0.5608016304347826\n",
      "Accuracy: %f 0.561491935483871\n",
      "Accuracy: %f 0.5613364361702128\n",
      "Accuracy: %f 0.5606907894736842\n",
      "Accuracy: %f 0.5595703125\n",
      "Accuracy: %f 0.5597615979381443\n",
      "Accuracy: %f 0.5588329081632653\n",
      "Accuracy: %f 0.5580808080808081\n",
      "Accuracy: %f 0.55859375\n",
      "Accuracy: %f 0.5592512376237624\n",
      "Accuracy: %f 0.5603553921568627\n",
      "Accuracy: %f 0.5600728155339806\n",
      "Accuracy: %f 0.5599459134615384\n",
      "Accuracy: %f 0.5595238095238095\n",
      "Accuracy: %f 0.5591096698113207\n",
      "Accuracy: %f 0.5591413551401869\n",
      "Accuracy: %f 0.55859375\n",
      "Accuracy: %f 0.5580561926605505\n",
      "Accuracy: %f 0.5580965909090909\n",
      "Accuracy: %f 0.5581362612612613\n",
      "Accuracy: %f 0.55859375\n",
      "Accuracy: %f 0.558766592920354\n",
      "Accuracy: %f 0.557702850877193\n",
      "Accuracy: %f 0.5577445652173914\n",
      "Accuracy: %f 0.5577855603448276\n",
      "Accuracy: %f 0.5582264957264957\n",
      "Accuracy: %f 0.5577330508474576\n",
      "Accuracy: %f 0.5577731092436975\n",
      "Accuracy: %f 0.5571614583333333\n",
      "Accuracy: %f 0.5578512396694215\n",
      "Accuracy: %f 0.5578893442622951\n",
      "Accuracy: %f 0.5583079268292683\n",
      "Accuracy: %f 0.5588457661290323\n",
      "Accuracy: %f 0.558625\n",
      "Accuracy: %f 0.5580357142857143\n",
      "Accuracy: %f 0.5583169291338582\n",
      "Accuracy: %f 0.5587158203125\n",
      "Accuracy: %f 0.5589874031007752\n",
      "Accuracy: %f 0.5588942307692307\n",
      "Accuracy: %f 0.5588024809160306\n",
      "Accuracy: %f 0.5589488636363636\n",
      "Accuracy: %f 0.5583881578947368\n",
      "Accuracy: %f 0.558418843283582\n",
      "Accuracy: %f 0.5590277777777778\n",
      "Accuracy: %f 0.5587086397058824\n",
      "Accuracy: %f 0.5593065693430657\n",
      "Accuracy: %f 0.560348731884058\n",
      "Accuracy: %f 0.5603642086330936\n",
      "Accuracy: %f 0.5604910714285715\n",
      "Accuracy: %f 0.5606161347517731\n",
      "Accuracy: %f 0.5610695422535211\n",
      "Accuracy: %f 0.5617351398601399\n",
      "Accuracy: %f 0.5607638888888888\n",
      "Accuracy: %f 0.5602370689655173\n",
      "Accuracy: %f 0.5605736301369864\n",
      "Accuracy: %f 0.560905612244898\n",
      "Accuracy: %f 0.5607052364864865\n",
      "Accuracy: %f 0.5610318791946308\n",
      "Accuracy: %f 0.5613541666666667\n",
      "Accuracy: %f 0.5613617549668874\n",
      "Accuracy: %f 0.5610608552631579\n",
      "Accuracy: %f 0.5612745098039216\n",
      "Accuracy: %f 0.5608766233766234\n",
      "Accuracy: %f 0.5612903225806452\n",
      "Accuracy: %f 0.5613982371794872\n",
      "Accuracy: %f 0.5613\n"
     ]
    }
   ],
   "source": [
    "val_loader = torch.utils.data.DataLoader(cifar2_val, batch_size=64,\n",
    "                                         shuffle=False)\n",
    "correct = 0 \n",
    "total = 0\n",
    "with torch.no_grad():\n",
    "    for imgs, labels in val_loader:\n",
    "        batch_size = imgs.shape[0]\n",
    "        outputs = model(imgs.view(batch_size, -1))\n",
    "        _, predicted = torch.max(outputs, dim=1)\n",
    "        total += labels.shape[0]\n",
    "        correct += int((predicted == labels).sum())\n",
    "        print(\"Accuracy: %f\", correct / total)"
   ]
  },
  {
   "cell_type": "code",
   "execution_count": null,
   "id": "4d9fc2c8",
   "metadata": {},
   "outputs": [],
   "source": []
  },
  {
   "cell_type": "markdown",
   "id": "61508042",
   "metadata": {},
   "source": [
    "# Step 13 (Optional): Improve the model\n",
    "Try to improve the model\n",
    "Simple things you can play with\n",
    "Adjust the learning rate\n",
    "Run more epochs\n",
    "Number of hidden nodes\n",
    "Medium things to play with\n",
    "Change activation functions\n",
    "Add another layer\n",
    "Advanced things\n",
    "Let your imagination guide you\n",
    "For inspiration see state of the art results (wiki)"
   ]
  },
  {
   "cell_type": "code",
   "execution_count": null,
   "id": "54100a3a",
   "metadata": {},
   "outputs": [],
   "source": []
  },
  {
   "cell_type": "code",
   "execution_count": null,
   "id": "6d76555a",
   "metadata": {},
   "outputs": [],
   "source": []
  },
  {
   "cell_type": "markdown",
   "id": "e1210d54",
   "metadata": {},
   "source": [
    "# Step 14 (Optional): Add more classes\n",
    "The dataset was limited to two classes (airplanes and birds)\n",
    "Try to add another class (or more) and see how it changes"
   ]
  },
  {
   "cell_type": "code",
   "execution_count": null,
   "id": "491ebc1c",
   "metadata": {},
   "outputs": [],
   "source": []
  },
  {
   "cell_type": "code",
   "execution_count": null,
   "id": "e1a69963",
   "metadata": {},
   "outputs": [],
   "source": []
  },
  {
   "cell_type": "code",
   "execution_count": null,
   "id": "0a83414e",
   "metadata": {},
   "outputs": [],
   "source": []
  }
 ],
 "metadata": {
  "kernelspec": {
   "display_name": "Python 3 (ipykernel)",
   "language": "python",
   "name": "python3"
  },
  "language_info": {
   "codemirror_mode": {
    "name": "ipython",
    "version": 3
   },
   "file_extension": ".py",
   "mimetype": "text/x-python",
   "name": "python",
   "nbconvert_exporter": "python",
   "pygments_lexer": "ipython3",
   "version": "3.9.13"
  },
  "varInspector": {
   "cols": {
    "lenName": 16,
    "lenType": 16,
    "lenVar": 40
   },
   "kernels_config": {
    "python": {
     "delete_cmd_postfix": "",
     "delete_cmd_prefix": "del ",
     "library": "var_list.py",
     "varRefreshCmd": "print(var_dic_list())"
    },
    "r": {
     "delete_cmd_postfix": ") ",
     "delete_cmd_prefix": "rm(",
     "library": "var_list.r",
     "varRefreshCmd": "cat(var_dic_list()) "
    }
   },
   "types_to_exclude": [
    "module",
    "function",
    "builtin_function_or_method",
    "instance",
    "_Feature"
   ],
   "window_display": false
  }
 },
 "nbformat": 4,
 "nbformat_minor": 5
}
